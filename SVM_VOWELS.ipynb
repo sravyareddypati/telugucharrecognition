{
 "cells": [
  {
   "cell_type": "code",
   "execution_count": 3,
   "id": "4bda8209",
   "metadata": {},
   "outputs": [
    {
     "name": "stdout",
     "output_type": "stream",
     "text": [
      "SVM Classifier Accuracy: 90.42%\n"
     ]
    }
   ],
   "source": [
    "import os\n",
    "import numpy as np\n",
    "from sklearn.model_selection import train_test_split\n",
    "from sklearn import svm\n",
    "from sklearn.metrics import accuracy_score\n",
    "from sklearn import preprocessing\n",
    "import cv2\n",
    "\n",
    "# Define the dataset path\n",
    "dataset_path = 'Vowel_dataset'\n",
    "\n",
    "# Initialize empty lists to store image data and corresponding labels\n",
    "image_data = []\n",
    "labels = []\n",
    "\n",
    "# Define the labels and create a label-to-index mapping\n",
    "label_to_index = {\n",
    "    'A': 0,\n",
    "    'Aa': 1,\n",
    "    'Ai': 2,\n",
    "    'E': 3,\n",
    "    'Ee': 4,\n",
    "    'U': 5\n",
    "}\n",
    "\n",
    "# Loop through the subdirectories and read images\n",
    "for label, index in label_to_index.items():\n",
    "    subdirectory_path = os.path.join(dataset_path, label)\n",
    "    for image_file in os.listdir(subdirectory_path):\n",
    "        if image_file.endswith(\".jpg\"):\n",
    "            image_path = os.path.join(subdirectory_path, image_file)\n",
    "            image = cv2.imread(image_path)\n",
    "            image = cv2.resize(image, (224, 224))  # Resize the image to match your CNN input size\n",
    "            image_data.append(image)\n",
    "            labels.append(index)\n",
    "\n",
    "# Convert the image data and labels to numpy arrays\n",
    "image_data = np.array(image_data)\n",
    "labels = np.array(labels)\n",
    "\n",
    "# Flatten the image data and scale it to the range [0, 1]\n",
    "image_data = image_data.reshape(image_data.shape[0], -1)\n",
    "image_data = image_data.astype(float)\n",
    "image_data /= 255.0\n",
    "\n",
    "# Split the dataset into training and testing sets\n",
    "X_train, X_test, y_train, y_test = train_test_split(image_data, labels, test_size=0.2, random_state=42)\n",
    "\n",
    "# Create and train an SVM classifier\n",
    "svm_classifier = svm.SVC(kernel='linear', C=1.0)\n",
    "svm_classifier.fit(X_train, y_train)\n",
    "\n",
    "\n",
    "y_pred = svm_classifier.predict(X_test)\n",
    "accuracy = accuracy_score(y_test, y_pred) * 100  # Calculate accuracy as a percentage\n",
    "print(\"SVM Classifier Accuracy: {:.2f}%\".format(accuracy))\n",
    "\n"
   ]
  },
  {
   "cell_type": "code",
   "execution_count": null,
   "id": "1f9bcd5d",
   "metadata": {},
   "outputs": [],
   "source": []
  }
 ],
 "metadata": {
  "kernelspec": {
   "display_name": "Python 3",
   "language": "python",
   "name": "python3"
  },
  "language_info": {
   "codemirror_mode": {
    "name": "ipython",
    "version": 3
   },
   "file_extension": ".py",
   "mimetype": "text/x-python",
   "name": "python",
   "nbconvert_exporter": "python",
   "pygments_lexer": "ipython3",
   "version": "3.6.8"
  }
 },
 "nbformat": 4,
 "nbformat_minor": 5
}
