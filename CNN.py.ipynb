{
 "cells": [
  {
   "cell_type": "code",
   "execution_count": 2,
   "id": "bab72e77",
   "metadata": {},
   "outputs": [
    {
     "name": "stdout",
     "output_type": "stream",
     "text": [
      "Requirement already satisfied: tensorflow in c:\\users\\sravyareddypati\\desktop\\django-ecommerce\\test\\lib\\site-packages (2.6.2)\n",
      "Requirement already satisfied: tensorflow-estimator<2.7,>=2.6.0 in c:\\users\\sravyareddypati\\desktop\\django-ecommerce\\test\\lib\\site-packages (from tensorflow) (2.6.0)\n",
      "Requirement already satisfied: flatbuffers~=1.12.0 in c:\\users\\sravyareddypati\\desktop\\django-ecommerce\\test\\lib\\site-packages (from tensorflow) (1.12)\n",
      "Requirement already satisfied: google-pasta~=0.2 in c:\\users\\sravyareddypati\\desktop\\django-ecommerce\\test\\lib\\site-packages (from tensorflow) (0.2.0)\n",
      "Requirement already satisfied: keras-preprocessing~=1.1.2 in c:\\users\\sravyareddypati\\desktop\\django-ecommerce\\test\\lib\\site-packages (from tensorflow) (1.1.2)\n",
      "Requirement already satisfied: wheel~=0.35 in c:\\users\\sravyareddypati\\desktop\\django-ecommerce\\test\\lib\\site-packages (from tensorflow) (0.37.1)\n",
      "Requirement already satisfied: grpcio<2.0,>=1.37.0 in c:\\users\\sravyareddypati\\desktop\\django-ecommerce\\test\\lib\\site-packages (from tensorflow) (1.48.2)\n",
      "Requirement already satisfied: termcolor~=1.1.0 in c:\\users\\sravyareddypati\\desktop\\django-ecommerce\\test\\lib\\site-packages (from tensorflow) (1.1.0)\n",
      "Requirement already satisfied: clang~=5.0 in c:\\users\\sravyareddypati\\desktop\\django-ecommerce\\test\\lib\\site-packages (from tensorflow) (5.0)\n",
      "Requirement already satisfied: wrapt~=1.12.1 in c:\\users\\sravyareddypati\\desktop\\django-ecommerce\\test\\lib\\site-packages (from tensorflow) (1.12.1)\n",
      "Requirement already satisfied: typing-extensions~=3.7.4 in c:\\users\\sravyareddypati\\desktop\\django-ecommerce\\test\\lib\\site-packages (from tensorflow) (3.7.4.3)\n",
      "Requirement already satisfied: absl-py~=0.10 in c:\\users\\sravyareddypati\\desktop\\django-ecommerce\\test\\lib\\site-packages (from tensorflow) (0.15.0)\n",
      "Requirement already satisfied: opt-einsum~=3.3.0 in c:\\users\\sravyareddypati\\desktop\\django-ecommerce\\test\\lib\\site-packages (from tensorflow) (3.3.0)\n",
      "Collecting keras<2.7,>=2.6.0\n",
      "  Using cached keras-2.6.0-py2.py3-none-any.whl (1.3 MB)\n",
      "Requirement already satisfied: astunparse~=1.6.3 in c:\\users\\sravyareddypati\\desktop\\django-ecommerce\\test\\lib\\site-packages (from tensorflow) (1.6.3)\n",
      "Requirement already satisfied: numpy~=1.19.2 in c:\\users\\sravyareddypati\\desktop\\django-ecommerce\\test\\lib\\site-packages (from tensorflow) (1.19.5)\n",
      "Requirement already satisfied: tensorboard<2.7,>=2.6.0 in c:\\users\\sravyareddypati\\desktop\\django-ecommerce\\test\\lib\\site-packages (from tensorflow) (2.6.0)\n",
      "Requirement already satisfied: protobuf>=3.9.2 in c:\\users\\sravyareddypati\\desktop\\django-ecommerce\\test\\lib\\site-packages (from tensorflow) (3.19.6)\n",
      "Requirement already satisfied: six~=1.15.0 in c:\\users\\sravyareddypati\\desktop\\django-ecommerce\\test\\lib\\site-packages (from tensorflow) (1.15.0)\n",
      "Requirement already satisfied: gast==0.4.0 in c:\\users\\sravyareddypati\\desktop\\django-ecommerce\\test\\lib\\site-packages (from tensorflow) (0.4.0)\n",
      "Requirement already satisfied: h5py~=3.1.0 in c:\\users\\sravyareddypati\\desktop\\django-ecommerce\\test\\lib\\site-packages (from tensorflow) (3.1.0)\n",
      "Requirement already satisfied: cached-property in c:\\users\\sravyareddypati\\desktop\\django-ecommerce\\test\\lib\\site-packages (from h5py~=3.1.0->tensorflow) (1.5.2)\n",
      "Requirement already satisfied: tensorboard-plugin-wit>=1.6.0 in c:\\users\\sravyareddypati\\desktop\\django-ecommerce\\test\\lib\\site-packages (from tensorboard<2.7,>=2.6.0->tensorflow) (1.8.1)\n",
      "Requirement already satisfied: requests<3,>=2.21.0 in c:\\users\\sravyareddypati\\desktop\\django-ecommerce\\test\\lib\\site-packages (from tensorboard<2.7,>=2.6.0->tensorflow) (2.25.1)\n",
      "Requirement already satisfied: google-auth<2,>=1.6.3 in c:\\users\\sravyareddypati\\desktop\\django-ecommerce\\test\\lib\\site-packages (from tensorboard<2.7,>=2.6.0->tensorflow) (1.35.0)\n",
      "Requirement already satisfied: tensorboard-data-server<0.7.0,>=0.6.0 in c:\\users\\sravyareddypati\\desktop\\django-ecommerce\\test\\lib\\site-packages (from tensorboard<2.7,>=2.6.0->tensorflow) (0.6.1)\n",
      "Requirement already satisfied: werkzeug>=0.11.15 in c:\\users\\sravyareddypati\\desktop\\django-ecommerce\\test\\lib\\site-packages (from tensorboard<2.7,>=2.6.0->tensorflow) (2.0.3)\n",
      "Requirement already satisfied: google-auth-oauthlib<0.5,>=0.4.1 in c:\\users\\sravyareddypati\\desktop\\django-ecommerce\\test\\lib\\site-packages (from tensorboard<2.7,>=2.6.0->tensorflow) (0.4.6)\n",
      "Requirement already satisfied: setuptools>=41.0.0 in c:\\users\\sravyareddypati\\desktop\\django-ecommerce\\test\\lib\\site-packages (from tensorboard<2.7,>=2.6.0->tensorflow) (59.6.0)\n",
      "Requirement already satisfied: markdown>=2.6.8 in c:\\users\\sravyareddypati\\desktop\\django-ecommerce\\test\\lib\\site-packages (from tensorboard<2.7,>=2.6.0->tensorflow) (3.3.7)\n",
      "Requirement already satisfied: cachetools<5.0,>=2.0.0 in c:\\users\\sravyareddypati\\desktop\\django-ecommerce\\test\\lib\\site-packages (from google-auth<2,>=1.6.3->tensorboard<2.7,>=2.6.0->tensorflow) (4.2.4)\n",
      "Requirement already satisfied: rsa<5,>=3.1.4 in c:\\users\\sravyareddypati\\desktop\\django-ecommerce\\test\\lib\\site-packages (from google-auth<2,>=1.6.3->tensorboard<2.7,>=2.6.0->tensorflow) (4.9)\n",
      "Requirement already satisfied: pyasn1-modules>=0.2.1 in c:\\users\\sravyareddypati\\desktop\\django-ecommerce\\test\\lib\\site-packages (from google-auth<2,>=1.6.3->tensorboard<2.7,>=2.6.0->tensorflow) (0.3.0)\n",
      "Requirement already satisfied: requests-oauthlib>=0.7.0 in c:\\users\\sravyareddypati\\desktop\\django-ecommerce\\test\\lib\\site-packages (from google-auth-oauthlib<0.5,>=0.4.1->tensorboard<2.7,>=2.6.0->tensorflow) (1.2.0)\n",
      "Requirement already satisfied: importlib-metadata>=4.4 in c:\\users\\sravyareddypati\\desktop\\django-ecommerce\\test\\lib\\site-packages (from markdown>=2.6.8->tensorboard<2.7,>=2.6.0->tensorflow) (4.8.3)\n",
      "Requirement already satisfied: idna<3,>=2.5 in c:\\users\\sravyareddypati\\desktop\\django-ecommerce\\test\\lib\\site-packages (from requests<3,>=2.21.0->tensorboard<2.7,>=2.6.0->tensorflow) (2.10)\n",
      "Requirement already satisfied: chardet<5,>=3.0.2 in c:\\users\\sravyareddypati\\desktop\\django-ecommerce\\test\\lib\\site-packages (from requests<3,>=2.21.0->tensorboard<2.7,>=2.6.0->tensorflow) (3.0.4)\n",
      "Requirement already satisfied: certifi>=2017.4.17 in c:\\users\\sravyareddypati\\desktop\\django-ecommerce\\test\\lib\\site-packages (from requests<3,>=2.21.0->tensorboard<2.7,>=2.6.0->tensorflow) (2020.12.5)\n",
      "Requirement already satisfied: urllib3<1.27,>=1.21.1 in c:\\users\\sravyareddypati\\desktop\\django-ecommerce\\test\\lib\\site-packages (from requests<3,>=2.21.0->tensorboard<2.7,>=2.6.0->tensorflow) (1.26.5)\n",
      "Requirement already satisfied: dataclasses in c:\\users\\sravyareddypati\\desktop\\django-ecommerce\\test\\lib\\site-packages (from werkzeug>=0.11.15->tensorboard<2.7,>=2.6.0->tensorflow) (0.8)\n",
      "Requirement already satisfied: zipp>=0.5 in c:\\users\\sravyareddypati\\desktop\\django-ecommerce\\test\\lib\\site-packages (from importlib-metadata>=4.4->markdown>=2.6.8->tensorboard<2.7,>=2.6.0->tensorflow) (3.6.0)\n",
      "Requirement already satisfied: pyasn1<0.6.0,>=0.4.6 in c:\\users\\sravyareddypati\\desktop\\django-ecommerce\\test\\lib\\site-packages (from pyasn1-modules>=0.2.1->google-auth<2,>=1.6.3->tensorboard<2.7,>=2.6.0->tensorflow) (0.5.0)\n",
      "Requirement already satisfied: oauthlib>=3.0.0 in c:\\users\\sravyareddypati\\desktop\\django-ecommerce\\test\\lib\\site-packages (from requests-oauthlib>=0.7.0->google-auth-oauthlib<0.5,>=0.4.1->tensorboard<2.7,>=2.6.0->tensorflow) (3.0.1)\n",
      "Installing collected packages: keras\n",
      "  Attempting uninstall: keras\n",
      "    Found existing installation: keras 2.10.0\n",
      "    Uninstalling keras-2.10.0:\n",
      "      Successfully uninstalled keras-2.10.0\n",
      "Successfully installed keras-2.6.0\n"
     ]
    }
   ],
   "source": [
    "!pip install tensorflow"
   ]
  },
  {
   "cell_type": "code",
   "execution_count": 3,
   "id": "58aa9eb3",
   "metadata": {},
   "outputs": [
    {
     "name": "stdout",
     "output_type": "stream",
     "text": [
      "Requirement already satisfied: keras in c:\\users\\sravyareddypati\\desktop\\django-ecommerce\\test\\lib\\site-packages (2.6.0)\n"
     ]
    }
   ],
   "source": [
    "!pip install keras"
   ]
  },
  {
   "cell_type": "code",
   "execution_count": 1,
   "id": "ed120480",
   "metadata": {},
   "outputs": [
    {
     "name": "stdout",
     "output_type": "stream",
     "text": [
      "Found 1200 images belonging to 6 classes.\n",
      "Epoch 1/10\n",
      "38/38 [==============================] - 81s 2s/step - loss: 1.7470 - accuracy: 0.3125\n",
      "Epoch 2/10\n",
      "38/38 [==============================] - 63s 2s/step - loss: 1.1161 - accuracy: 0.5717\n",
      "Epoch 3/10\n",
      "38/38 [==============================] - 64s 2s/step - loss: 0.8769 - accuracy: 0.6875\n",
      "Epoch 4/10\n",
      "38/38 [==============================] - 64s 2s/step - loss: 0.6428 - accuracy: 0.7442\n",
      "Epoch 5/10\n",
      "38/38 [==============================] - 58s 2s/step - loss: 0.6034 - accuracy: 0.7733\n",
      "Epoch 6/10\n",
      "38/38 [==============================] - 60s 2s/step - loss: 0.4300 - accuracy: 0.8392\n",
      "Epoch 7/10\n",
      "38/38 [==============================] - 58s 2s/step - loss: 0.3851 - accuracy: 0.8617\n",
      "Epoch 8/10\n",
      "38/38 [==============================] - 68s 2s/step - loss: 0.3388 - accuracy: 0.8892\n",
      "Epoch 9/10\n",
      "38/38 [==============================] - 69s 2s/step - loss: 0.2970 - accuracy: 0.8958\n",
      "Epoch 10/10\n",
      "38/38 [==============================] - 60s 2s/step - loss: 0.2609 - accuracy: 0.9142\n"
     ]
    }
   ],
   "source": [
    "import os\n",
    "import numpy as np\n",
    "import tensorflow as tf\n",
    "from tensorflow import keras\n",
    "from tensorflow.keras import layers\n",
    "from tensorflow.keras.preprocessing.image import ImageDataGenerator\n",
    "\n",
    "# Define the dataset path\n",
    "dataset_path = 'Vowel_dataset'\n",
    "\n",
    "# Define image size and batch size\n",
    "img_size = (224, 224)\n",
    "batch_size = 32\n",
    "\n",
    "# Create an ImageDataGenerator for data augmentation\n",
    "datagen = ImageDataGenerator(\n",
    "    rescale=1.0 / 255,\n",
    "    rotation_range=15,\n",
    "    width_shift_range=0.1,\n",
    "    height_shift_range=0.1,\n",
    "    horizontal_flip=True,\n",
    "    zoom_range=0.2,\n",
    ")\n",
    "\n",
    "# Load and preprocess data\n",
    "generator = datagen.flow_from_directory(\n",
    "    dataset_path,\n",
    "    target_size=img_size,\n",
    "    batch_size=batch_size,\n",
    "    class_mode='categorical',\n",
    ")\n",
    "\n",
    "# Create a CNN model\n",
    "model = keras.Sequential([\n",
    "    layers.Conv2D(32, (3, 3), activation='relu', input_shape=(224, 224, 3)),\n",
    "    layers.MaxPooling2D((2, 2)),\n",
    "    layers.Conv2D(64, (3, 3), activation='relu'),\n",
    "    layers.MaxPooling2D((2, 2)),\n",
    "    layers.Conv2D(128, (3, 3), activation='relu'),\n",
    "    layers.MaxPooling2D((2, 2)),\n",
    "    layers.Flatten(),\n",
    "    layers.Dense(128, activation='relu'),\n",
    "    layers.Dense(6, activation='softmax'),  # 6 classes (A, Aa, Ai, E, Ee, U)\n",
    "])\n",
    "\n",
    "# Compile the model\n",
    "model.compile(optimizer='adam', loss='categorical_crossentropy', metrics=['accuracy'])\n",
    "\n",
    "# Train the model\n",
    "model.fit(generator, epochs=10)\n",
    "\n",
    "# Save the model\n",
    "model.save('vowel_classifier.h5')\n"
   ]
  },
  {
   "cell_type": "code",
   "execution_count": 2,
   "id": "7a0561e3",
   "metadata": {},
   "outputs": [
    {
     "name": "stdout",
     "output_type": "stream",
     "text": [
      "38/38 [==============================] - 31s 803ms/step - loss: 0.2283 - accuracy: 0.9200\n",
      "Accuracy on the entire dataset: 92.00%\n"
     ]
    }
   ],
   "source": [
    "# Calculate and print accuracy on the entire dataset\n",
    "accuracy = model.evaluate(generator)[1]\n",
    "print(f'Accuracy on the entire dataset: {accuracy * 100:.2f}%')\n"
   ]
  },
  {
   "cell_type": "code",
   "execution_count": 3,
   "id": "4e014874",
   "metadata": {},
   "outputs": [
    {
     "name": "stdout",
     "output_type": "stream",
     "text": [
      "Predicted Class: U\n",
      "Class Probabilities: [[9.3929244e-05 4.6946769e-07 7.8758987e-04 1.0794087e-04 4.3247333e-03\n",
      "  9.9468541e-01]]\n"
     ]
    }
   ],
   "source": [
    "import numpy as np\n",
    "from tensorflow import keras\n",
    "from tensorflow.keras.preprocessing import image\n",
    "\n",
    "# Load the trained model\n",
    "model = keras.models.load_model('vowel_classifier.h5')  # Load your model file\n",
    "\n",
    "# Define a function to make predictions on a new image\n",
    "def predict_image(image_path):\n",
    "    img = image.load_img(image_path, target_size=(224, 224))\n",
    "    img = image.img_to_array(img)\n",
    "    img = np.expand_dims(img, axis=0)\n",
    "    img /= 255.0  # Rescale the image\n",
    "    prediction = model.predict(img)\n",
    "    class_index = np.argmax(prediction)\n",
    "    classes = ['A', 'Aa', 'Ai', 'E', 'Ee', 'U']  # Your class labels\n",
    "    predicted_class = classes[class_index]\n",
    "    return predicted_class, prediction\n",
    "\n",
    "# Example usage\n",
    "image_path = 'testing2.jpg'  # Replace with the path to your image\n",
    "predicted_class, prediction = predict_image(image_path)\n",
    "print(f'Predicted Class: {predicted_class}')\n",
    "print(f'Class Probabilities: {prediction}')\n"
   ]
  },
  {
   "cell_type": "code",
   "execution_count": null,
   "id": "7c9cada2",
   "metadata": {},
   "outputs": [],
   "source": []
  }
 ],
 "metadata": {
  "kernelspec": {
   "display_name": "Python 3",
   "language": "python",
   "name": "python3"
  },
  "language_info": {
   "codemirror_mode": {
    "name": "ipython",
    "version": 3
   },
   "file_extension": ".py",
   "mimetype": "text/x-python",
   "name": "python",
   "nbconvert_exporter": "python",
   "pygments_lexer": "ipython3",
   "version": "3.6.8"
  }
 },
 "nbformat": 4,
 "nbformat_minor": 5
}
